{
 "cells": [
  {
   "cell_type": "code",
   "execution_count": 1,
   "id": "3c53363c",
   "metadata": {},
   "outputs": [],
   "source": [
    "sayi = 30\n",
    "\n",
    "def bolme(num):\n",
    "    sayi = 10\n",
    "    return sayi / num"
   ]
  },
  {
   "cell_type": "code",
   "execution_count": 2,
   "id": "a8f6fea8",
   "metadata": {},
   "outputs": [
    {
     "data": {
      "text/plain": [
       "5.0"
      ]
     },
     "execution_count": 2,
     "metadata": {},
     "output_type": "execute_result"
    }
   ],
   "source": [
    "bolme(2)"
   ]
  },
  {
   "cell_type": "code",
   "execution_count": 3,
   "id": "12ecb7a2",
   "metadata": {},
   "outputs": [
    {
     "data": {
      "text/plain": [
       "3.3333333333333335"
      ]
     },
     "execution_count": 3,
     "metadata": {},
     "output_type": "execute_result"
    }
   ],
   "source": [
    "bolme(3)"
   ]
  },
  {
   "cell_type": "code",
   "execution_count": 4,
   "id": "ae69f903",
   "metadata": {},
   "outputs": [
    {
     "data": {
      "text/plain": [
       "2.5"
      ]
     },
     "execution_count": 4,
     "metadata": {},
     "output_type": "execute_result"
    }
   ],
   "source": [
    "bolme(4)"
   ]
  },
  {
   "cell_type": "code",
   "execution_count": 5,
   "id": "c90e8482",
   "metadata": {},
   "outputs": [
    {
     "data": {
      "text/plain": [
       "30"
      ]
     },
     "execution_count": 5,
     "metadata": {},
     "output_type": "execute_result"
    }
   ],
   "source": [
    "sayi "
   ]
  },
  {
   "cell_type": "code",
   "execution_count": 6,
   "id": "c2abf7ba",
   "metadata": {},
   "outputs": [],
   "source": [
    "a = 100\n",
    "a = 500"
   ]
  },
  {
   "cell_type": "code",
   "execution_count": 7,
   "id": "cff477d7",
   "metadata": {},
   "outputs": [
    {
     "data": {
      "text/plain": [
       "500"
      ]
     },
     "execution_count": 7,
     "metadata": {},
     "output_type": "execute_result"
    }
   ],
   "source": [
    "a"
   ]
  },
  {
   "cell_type": "code",
   "execution_count": 10,
   "id": "1b02bb27",
   "metadata": {},
   "outputs": [],
   "source": [
    "#scope\n",
    "#local, enclosing, global, built-in"
   ]
  },
  {
   "cell_type": "code",
   "execution_count": 13,
   "id": "6a3601d7",
   "metadata": {},
   "outputs": [],
   "source": [
    "superkahraman = \"batman\"\n",
    "#global\n",
    "\n",
    "def ornekFonksiyon():\n",
    "    superkahraman = \"spiderman\"\n",
    "    #enclosing\n",
    "    \n",
    "    def icFonksiyon():\n",
    "        superkahraman = \"aquaman\"\n",
    "        #local\n",
    "        print(superkahraman)\n",
    "    \n",
    "    icFonksiyon()"
   ]
  },
  {
   "cell_type": "code",
   "execution_count": 14,
   "id": "df3112de",
   "metadata": {},
   "outputs": [
    {
     "name": "stdout",
     "output_type": "stream",
     "text": [
      "aquaman\n"
     ]
    }
   ],
   "source": [
    "ornekFonksiyon()"
   ]
  },
  {
   "cell_type": "code",
   "execution_count": 15,
   "id": "2fd27b58",
   "metadata": {},
   "outputs": [
    {
     "data": {
      "text/plain": [
       "'batman'"
      ]
     },
     "execution_count": 15,
     "metadata": {},
     "output_type": "execute_result"
    }
   ],
   "source": [
    "superkahraman"
   ]
  },
  {
   "cell_type": "code",
   "execution_count": 16,
   "id": "3985e84e",
   "metadata": {},
   "outputs": [],
   "source": [
    "superkahraman = \"batman\"\n",
    "\n",
    "def ornekFonksiyon():\n",
    "    superkahraman = \"spiderman\"\n",
    "    \n",
    "    def icFonksiyon():\n",
    "        print(superkahraman)\n",
    "    \n",
    "    icFonksiyon()"
   ]
  },
  {
   "cell_type": "code",
   "execution_count": 17,
   "id": "6ebe61f4",
   "metadata": {},
   "outputs": [
    {
     "name": "stdout",
     "output_type": "stream",
     "text": [
      "spiderman\n"
     ]
    }
   ],
   "source": [
    "ornekFonksiyon()"
   ]
  },
  {
   "cell_type": "code",
   "execution_count": 18,
   "id": "fdca985a",
   "metadata": {},
   "outputs": [],
   "source": [
    "superkahraman = \"batman\"\n",
    "\n",
    "def ornekFonksiyon():\n",
    "    superkahraman = \"spiderman\""
   ]
  },
  {
   "cell_type": "code",
   "execution_count": 19,
   "id": "ef4c7b23",
   "metadata": {},
   "outputs": [
    {
     "data": {
      "text/plain": [
       "'batman'"
      ]
     },
     "execution_count": 19,
     "metadata": {},
     "output_type": "execute_result"
    }
   ],
   "source": [
    "superkahraman"
   ]
  },
  {
   "cell_type": "code",
   "execution_count": 20,
   "id": "a3b5ab74",
   "metadata": {},
   "outputs": [],
   "source": [
    "x = 5\n",
    "\n",
    "def yeniOrnek(x):\n",
    "    print(x)\n",
    "    x = 10\n",
    "    print(x)\n",
    "    return(x)"
   ]
  },
  {
   "cell_type": "code",
   "execution_count": 21,
   "id": "8cfd780d",
   "metadata": {},
   "outputs": [
    {
     "name": "stdout",
     "output_type": "stream",
     "text": [
      "20\n",
      "10\n"
     ]
    },
    {
     "data": {
      "text/plain": [
       "10"
      ]
     },
     "execution_count": 21,
     "metadata": {},
     "output_type": "execute_result"
    }
   ],
   "source": [
    "yeniOrnek(20)"
   ]
  },
  {
   "cell_type": "code",
   "execution_count": 22,
   "id": "83083fc5",
   "metadata": {},
   "outputs": [
    {
     "data": {
      "text/plain": [
       "5"
      ]
     },
     "execution_count": 22,
     "metadata": {},
     "output_type": "execute_result"
    }
   ],
   "source": [
    "x"
   ]
  },
  {
   "cell_type": "code",
   "execution_count": 23,
   "id": "bcd80611",
   "metadata": {},
   "outputs": [
    {
     "name": "stdout",
     "output_type": "stream",
     "text": [
      "20\n",
      "10\n"
     ]
    }
   ],
   "source": [
    "x = yeniOrnek(20)"
   ]
  },
  {
   "cell_type": "code",
   "execution_count": 24,
   "id": "4f4b9b4c",
   "metadata": {},
   "outputs": [
    {
     "data": {
      "text/plain": [
       "10"
      ]
     },
     "execution_count": 24,
     "metadata": {},
     "output_type": "execute_result"
    }
   ],
   "source": [
    "x"
   ]
  },
  {
   "cell_type": "code",
   "execution_count": 25,
   "id": "652340b1",
   "metadata": {},
   "outputs": [],
   "source": [
    "y = 5\n",
    "\n",
    "def yeniBirFonksiyon():\n",
    "    y = 10\n",
    "    print(y)"
   ]
  },
  {
   "cell_type": "code",
   "execution_count": 26,
   "id": "07232be2",
   "metadata": {},
   "outputs": [
    {
     "name": "stdout",
     "output_type": "stream",
     "text": [
      "10\n"
     ]
    }
   ],
   "source": [
    "yeniBirFonksiyon()"
   ]
  },
  {
   "cell_type": "code",
   "execution_count": 29,
   "id": "8f88bd62",
   "metadata": {},
   "outputs": [],
   "source": [
    "z = 5 \n",
    "\n",
    "def yepyeniFonksiyon():\n",
    "    global z\n",
    "    z = 10\n",
    "    print(z)"
   ]
  },
  {
   "cell_type": "code",
   "execution_count": 30,
   "id": "70f8bee9",
   "metadata": {},
   "outputs": [
    {
     "name": "stdout",
     "output_type": "stream",
     "text": [
      "10\n"
     ]
    }
   ],
   "source": [
    "yepyeniFonksiyon()"
   ]
  },
  {
   "cell_type": "code",
   "execution_count": 32,
   "id": "377bf411",
   "metadata": {},
   "outputs": [
    {
     "data": {
      "text/plain": [
       "10"
      ]
     },
     "execution_count": 32,
     "metadata": {},
     "output_type": "execute_result"
    }
   ],
   "source": [
    "z"
   ]
  },
  {
   "cell_type": "code",
   "execution_count": null,
   "id": "dcdb798f",
   "metadata": {},
   "outputs": [],
   "source": []
  }
 ],
 "metadata": {
  "kernelspec": {
   "display_name": "Python 3 (ipykernel)",
   "language": "python",
   "name": "python3"
  },
  "language_info": {
   "codemirror_mode": {
    "name": "ipython",
    "version": 3
   },
   "file_extension": ".py",
   "mimetype": "text/x-python",
   "name": "python",
   "nbconvert_exporter": "python",
   "pygments_lexer": "ipython3",
   "version": "3.9.12"
  }
 },
 "nbformat": 4,
 "nbformat_minor": 5
}
